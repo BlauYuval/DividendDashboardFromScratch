{
 "cells": [
  {
   "cell_type": "code",
   "execution_count": 1,
   "metadata": {},
   "outputs": [],
   "source": [
    "import os\n",
    "import ast\n",
    "import redis\n",
    "import matplotlib\n",
    "import pandas as pd\n",
    "import seaborn as sns\n",
    "matplotlib.use('Agg')  # Use the 'Agg' backend for Matplotlib\n",
    "import matplotlib.pyplot as plt\n",
    "from dotenv import load_dotenv\n",
    "from flask import Flask, render_template\n",
    "from flask_basicauth import BasicAuth\n",
    "\n",
    "from income import Income\n",
    "from visualization import vizualize_income_bar, prepare_to_vizualize_secotrs_bar, vizualize_sectors_bar"
   ]
  },
  {
   "cell_type": "code",
   "execution_count": 2,
   "metadata": {},
   "outputs": [],
   "source": [
    "\n",
    "# data_loader = DataLoader()\n",
    "# transaction_data, sectors_data, daily_prices, dividends_data = data_loader.run()"
   ]
  },
  {
   "cell_type": "code",
   "execution_count": 3,
   "metadata": {},
   "outputs": [],
   "source": [
    "load_dotenv()\n",
    "\n",
    "# Initialize Redis connection\n",
    "redis_host = os.getenv('REDIS_HOST')\n",
    "redis_port = int(os.getenv('REDIS_PORT'))\n",
    "redis_password = os.getenv('REDIS_PASSWORD')\n",
    "\n",
    "r = redis.Redis(host=redis_host, port=redis_port, password=redis_password)\n",
    "\n",
    "# Fetch data from Redis\n",
    "transaction_data_json = r.get('transaction_data')\n",
    "portfolio_to_plot_json = r.get('portfolio_to_plot')\n",
    "portfolio_table_json = r.get('portfolio_table')\n",
    "dividends_data_json = r.get('dividends_data')\n",
    "growth_data_json = r.get('growth_table')\n",
    "\n",
    "transaction_data = pd.DataFrame(ast.literal_eval(transaction_data_json.decode('utf-8')))\n",
    "transaction_data['date'] = pd.to_datetime(transaction_data['date'], unit='ms')\n",
    "transaction_data['start_payment_date'] = pd.to_datetime(transaction_data['start_payment_date'], unit='ms')\n",
    "portfolio_table = pd.DataFrame(ast.literal_eval(portfolio_table_json.decode('utf-8')))\n",
    "portfolio_to_plot = pd.DataFrame(ast.literal_eval(portfolio_to_plot_json.decode('utf-8')))\n",
    "portfolio_to_plot['Date'] = pd.to_datetime(portfolio_to_plot['Date'], unit='ms')\n",
    "dividends_data = pd.DataFrame(ast.literal_eval(dividends_data_json.decode('utf-8')))\n",
    "income = Income(transaction_data, dividends_data)\n",
    "monthly_income, yearly_income = income.run()\n",
    "growth_data_str = growth_data_json.decode('utf-8')\n",
    "growth_data_str = growth_data_str.replace('null', \"-1\")\n",
    "growth_data = pd.DataFrame(ast.literal_eval(growth_data_str))\n",
    "growth_data['start_payment_date'] = pd.to_datetime(growth_data['start_payment_date'], unit='ms')\n",
    "growth_data.columns = [\" \".join([part.capitalize() for part in col.split('_')]) for col in growth_data.columns]"
   ]
  },
  {
   "cell_type": "code",
   "execution_count": 4,
   "metadata": {},
   "outputs": [],
   "source": [
    "from executive_summery import ExecutiveSummery"
   ]
  },
  {
   "cell_type": "code",
   "execution_count": 5,
   "metadata": {},
   "outputs": [],
   "source": [
    "#Display\n",
    "## Excetive Summary\n",
    "summery = ExecutiveSummery(portfolio_table)\n",
    "total_return, amount_invested, return_yield = summery.get_total_return()\n",
    "dividend_yield, yield_on_cost = summery.get_dividend_yield(total_return, amount_invested, yearly_income)\n",
    "average_dividend_growth = summery.get_average_dividend_growth(growth_data)"
   ]
  }
 ],
 "metadata": {
  "kernelspec": {
   "display_name": "p311",
   "language": "python",
   "name": "python3"
  },
  "language_info": {
   "codemirror_mode": {
    "name": "ipython",
    "version": 3
   },
   "file_extension": ".py",
   "mimetype": "text/x-python",
   "name": "python",
   "nbconvert_exporter": "python",
   "pygments_lexer": "ipython3",
   "version": "3.11.7"
  }
 },
 "nbformat": 4,
 "nbformat_minor": 2
}
